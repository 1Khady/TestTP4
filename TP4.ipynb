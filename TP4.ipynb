{
 "cells": [
  {
   "cell_type": "code",
   "execution_count": null,
   "metadata": {},
   "outputs": [],
   "source": [
    "import pyodbc \n",
    "import sys\n",
    "conn = pyodbc.connect ('Driver = {SQL Server};'\n",
    "                      'Serveur = LAPTOP-UJ27FLQG;'\n",
    "                      'Database = WideWorldImporters;'\n",
    "                      'Trusted_Connection = yes;')\n",
    "\n",
    "curseur = conn.cursor ()\n",
    "curseur.execute (\"SELECT StockItemID, Quantity, UnitPrice, TaxRate from Sales.InvoiceLines where StockItemID =10\")\n",
    "\n",
    "for row in cursor:\n",
    "    print(row)\n"
   ]
  },
  {
   "cell_type": "code",
   "execution_count": null,
   "metadata": {},
   "outputs": [],
   "source": [
    "import pyodbc \n",
    "import sys\n",
    "conn = pyodbc.connect ('Driver = {SQL Server};'\n",
    "                      'Serveur = LAPTOP-UJ27FLQG;'\n",
    "                      'Database = WideWorldImporters;'\n",
    "                      'Trusted_Connection = yes;')\n",
    "\n",
    "curseur = conn.cursor ()\n",
    "curseur.execute (\"SELECT StockItemID, Quantity, UnitPrice, TaxRate from Sales.InvoiceLines)\n",
    "sql = \"update Sales.InvoiceLines set UnitPrice= '152' where StockItemID= 114 \"\n",
    "\n",
    "for row in cursor:\n",
    "    print(row)\n"
   ]
  }
 ],
 "metadata": {
  "kernelspec": {
   "display_name": "Python 3",
   "language": "python",
   "name": "python3"
  },
  "language_info": {
   "codemirror_mode": {
    "name": "ipython",
    "version": 3
   },
   "file_extension": ".py",
   "mimetype": "text/x-python",
   "name": "python",
   "nbconvert_exporter": "python",
   "pygments_lexer": "ipython3",
   "version": "3.7.4"
  }
 },
 "nbformat": 4,
 "nbformat_minor": 4
}
